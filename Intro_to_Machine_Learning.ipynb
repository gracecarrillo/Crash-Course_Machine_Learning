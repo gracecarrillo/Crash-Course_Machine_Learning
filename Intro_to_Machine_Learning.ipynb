{
 "metadata": {
  "language_info": {
   "codemirror_mode": {
    "name": "ipython",
    "version": 3
   },
   "file_extension": ".py",
   "mimetype": "text/x-python",
   "name": "python",
   "nbconvert_exporter": "python",
   "pygments_lexer": "ipython3",
   "version": "3.9.0"
  },
  "orig_nbformat": 2,
  "kernelspec": {
   "name": "python390jvsc74a57bd063fd5069d213b44bf678585dea6b12cceca9941eaf7f819626cde1f2670de90d",
   "display_name": "Python 3.9.0 64-bit"
  },
  "metadata": {
   "interpreter": {
    "hash": "63fd5069d213b44bf678585dea6b12cceca9941eaf7f819626cde1f2670de90d"
   }
  }
 },
 "nbformat": 4,
 "nbformat_minor": 2,
 "cells": [
  {
   "source": [
    "# Machine Learning: \n",
    "## Understanding machine learning and the problems it can solve\n",
    "Extract from [Machine Learning Bookcamp by Alexey Grigorev, Manning Publications, 2020](https://mlbookcamp.com/) "
   ],
   "cell_type": "markdown",
   "metadata": {}
  },
  {
   "source": [
    "Machine learning is part of applied mathematics and computer science. It uses tools from\n",
    "mathematical disciplines such as probability, statistics, and optimisation theory to extract\n",
    "patterns from data.\n",
    "\n",
    "The main idea behind machine learning is learning from examples: we prepare a dataset with\n",
    "examples, and a machine learning system “learns” from this dataset. In other words, we give the system the input and the desired output, and the system tries to figure out how to do the\n",
    "conversion automatically, without asking a human.\n",
    "\n",
    "We can collect a dataset with description of cars and their prices, for example. Then we\n",
    "provide a machine learning model with this dataset and “teach” it by showing cars and their\n",
    "prices. This process is called training or sometimes fitting.\n",
    "\n",
    "![title](img\\figure_1_1.png)\n",
    "\n"
   ],
   "cell_type": "markdown",
   "metadata": {}
  },
  {
   "source": [
    "When training is done, we can use the model by asking it to predict car prices that we don’t\n",
    "know yet.\n",
    "\n",
    "![title](img\\figure_1_2.png)"
   ],
   "cell_type": "markdown",
   "metadata": {}
  },
  {
   "source": [
    "As we see, all we need for machine learning is a dataset in which for each input item (a car),\n",
    "we have the desired output (the price).\n",
    "\n",
    "This process is quite different from traditional software engineering. Without machine learning,\n",
    "analysts and developers look at the data they have and try to find patterns there manually.\n",
    "After that, they come up with some logic: a set of rules for converting the input data to the desired output. Then they explicitly encode these rules with a programming language such as\n",
    "Java or Python, and the result is called software. So, in contrast with machine learning, a\n",
    "human does all the difficult work in traditional programming.\n",
    "\n",
    "<br>\n",
    "\n",
    "![title](img\\figure_1_3.png)"
   ],
   "cell_type": "markdown",
   "metadata": {}
  },
  {
   "source": [
    "We can summarize the difference between a traditional software system and a system based\n",
    "on machine learning with the images below. \n",
    "\n",
    "In machine learning, we give the system the input\n",
    "and output data, and the result is a model (code) that can transform the input into the output.\n",
    "The difficult work is done by the machine; we need only supervise the training process to\n",
    "make sure that the model is good (A). By contrast, in traditional systems, we first\n",
    "find the patterns in the data ourselves and then write code that converts the data to the\n",
    "desired outcome, using the manually discovered patterns (B).\n",
    "\n",
    "<br>\n",
    "\n",
    "![title](img\\figure_1_4a.png)\n",
    "\n",
    "<br>\n",
    "\n",
    "![title](img\\figure_1_4b.png)"
   ],
   "cell_type": "markdown",
   "metadata": {}
  },
  {
   "source": [
    "Now it's time to jump into the hands-on exercises. Happy Learning!"
   ],
   "cell_type": "markdown",
   "metadata": {}
  }
 ]
}